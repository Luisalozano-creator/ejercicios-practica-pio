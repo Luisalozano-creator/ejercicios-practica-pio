{
  "nbformat": 4,
  "nbformat_minor": 0,
  "metadata": {
    "colab": {
      "provenance": [],
      "authorship_tag": "ABX9TyPnWcoSTgW7colCIOTkU2qC",
      "include_colab_link": true
    },
    "kernelspec": {
      "name": "python3",
      "display_name": "Python 3"
    },
    "language_info": {
      "name": "python"
    }
  },
  "cells": [
    {
      "cell_type": "markdown",
      "metadata": {
        "id": "view-in-github",
        "colab_type": "text"
      },
      "source": [
        "<a href=\"https://colab.research.google.com/github/Luisalozano-creator/ejercicios-practica-pio/blob/main/Untitled2.ipynb\" target=\"_parent\"><img src=\"https://colab.research.google.com/assets/colab-badge.svg\" alt=\"Open In Colab\"/></a>"
      ]
    },
    {
      "cell_type": "markdown",
      "source": [],
      "metadata": {
        "id": "OTTJ3iHrWTHt"
      }
    },
    {
      "cell_type": "markdown",
      "source": [],
      "metadata": {
        "id": "dLDB3PB9WUgc"
      }
    },
    {
      "cell_type": "markdown",
      "source": [],
      "metadata": {
        "id": "qrN35C35WaSu"
      }
    },
    {
      "cell_type": "markdown",
      "source": [],
      "metadata": {
        "id": "K79Dj6qZWbB7"
      }
    },
    {
      "cell_type": "code",
      "source": [
        "personajes= [\"Princesa\", \"Arco\", \"Mago\", \"Cazador\",  ];\n",
        "lugares= [\"Campo\", \"Bosque\"];\n",
        "Acciones= [\"Dispara\", \"Batalla\", \"Corre\" \"Hechiza\"]\n",
        "Preposiciones [\"a\", \"con\", \"de\" ]\n",
        "import random\n",
        "\n",
        "personaje = random.choise (personajes)\n",
        "lugar = random.choise (lugares)\n",
        "accion = random.choise (Acciones)\n",
        "if accion == \"Dispara\" or accion \"Corre\":\n",
        "preposicion = a\n",
        "historia = f\"Un {personaje} {Accion} {preposicion} {lugar}\n",
        "print (historia)\n",
        "\n",
        "------------\n",
        "\n"
      ],
      "metadata": {
        "id": "1gCmovEKWbiM",
        "colab": {
          "base_uri": "https://localhost:8080/",
          "height": 106
        },
        "outputId": "cb3e4822-63ae-4409-fb70-4fd9b67ebb8a"
      },
      "execution_count": 2,
      "outputs": [
        {
          "output_type": "error",
          "ename": "SyntaxError",
          "evalue": "unterminated string literal (detected at line 12) (<ipython-input-2-6c9e9f6ee0c2>, line 12)",
          "traceback": [
            "\u001b[0;36m  File \u001b[0;32m\"<ipython-input-2-6c9e9f6ee0c2>\"\u001b[0;36m, line \u001b[0;32m12\u001b[0m\n\u001b[0;31m    historia = F \"Un {personaje} {Accion} {preposicion} {lugar}\u001b[0m\n\u001b[0m                 ^\u001b[0m\n\u001b[0;31mSyntaxError\u001b[0m\u001b[0;31m:\u001b[0m unterminated string literal (detected at line 12)\n"
          ]
        }
      ]
    },
    {
      "cell_type": "code",
      "source": [
        "\n"
      ],
      "metadata": {
        "id": "4ICKWgNSmJuJ"
      },
      "execution_count": null,
      "outputs": []
    },
    {
      "cell_type": "markdown",
      "source": [],
      "metadata": {
        "id": "WlfSWhNxWi0e"
      }
    },
    {
      "cell_type": "markdown",
      "source": [],
      "metadata": {
        "id": "8iR6e_VFWeUD"
      }
    },
    {
      "cell_type": "markdown",
      "source": [],
      "metadata": {
        "id": "Yj2f3JPhWPUZ"
      }
    },
    {
      "cell_type": "markdown",
      "source": [],
      "metadata": {
        "id": "-6jRIv6nWMUv"
      }
    }
  ]
}